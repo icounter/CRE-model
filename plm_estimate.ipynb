{
 "cells": [
  {
   "cell_type": "code",
   "execution_count": 8,
   "metadata": {
    "collapsed": false
   },
   "outputs": [
    {
     "name": "stderr",
     "output_type": "stream",
     "text": [
      "Warning message:\n",
      "\"package 'plm' was built under R version 3.2.5\"Loading required package: Formula\n",
      "Warning message:\n",
      "\"package 'stringr' was built under R version 3.2.5\""
     ]
    }
   ],
   "source": [
    "library(plm)\n",
    "library(stringr) "
   ]
  },
  {
   "cell_type": "code",
   "execution_count": 9,
   "metadata": {
    "collapsed": false
   },
   "outputs": [],
   "source": [
    "data<-read.csv('metro_level_clean_data_rca_err.csv')\n",
    "data[,1]=as.Date(data[,1],format=\"%m/%d/%Y\")  #convert to time series"
   ]
  },
  {
   "cell_type": "code",
   "execution_count": 10,
   "metadata": {
    "collapsed": false
   },
   "outputs": [
    {
     "data": {
      "text/html": [
       "<table>\n",
       "<thead><tr><th scope=col>Date</th><th scope=col>MetroArea</th><th scope=col>SECTOR</th><th scope=col>rent_value</th><th scope=col>err_value</th><th scope=col>AAA</th><th scope=col>OTR_USD_10YR</th><th scope=col>USD_GRM_spread</th><th scope=col>log_index</th><th scope=col>log_rent</th><th scope=col>log_10year_rate</th><th scope=col>inelastic</th><th scope=col>intersect</th></tr></thead>\n",
       "<tbody>\n",
       "\t<tr><td>2001-01-01 </td><td>Atlanta    </td><td>APT        </td><td>57002.15550</td><td> 9.029698  </td><td>1.4452716  </td><td>5.631395   </td><td>0.8694115  </td><td>10.950844  </td><td>2.200519   </td><td>1.728357   </td><td>0          </td><td>0          </td></tr>\n",
       "\t<tr><td>2001-01-01 </td><td>Atlanta    </td><td>IND        </td><td>   38.93760</td><td> 4.477118  </td><td>1.4452716  </td><td>5.631395   </td><td>0.8694115  </td><td> 3.661960  </td><td>1.498980   </td><td>1.728357   </td><td>0          </td><td>0          </td></tr>\n",
       "\t<tr><td>2001-01-01 </td><td>Atlanta    </td><td>OFF        </td><td>   73.26115</td><td>19.114560  </td><td>1.4452716  </td><td>5.631395   </td><td>0.8694115  </td><td> 4.294030  </td><td>2.950450   </td><td>1.728357   </td><td>0          </td><td>0          </td></tr>\n",
       "\t<tr><td>2001-01-01 </td><td>Atlanta    </td><td>RET        </td><td>   67.33691</td><td>13.466975  </td><td>1.4452716  </td><td>5.631395   </td><td>0.8694115  </td><td> 4.209709  </td><td>2.600240   </td><td>1.728357   </td><td>0          </td><td>0          </td></tr>\n",
       "\t<tr><td>2002-01-01 </td><td>Atlanta    </td><td>APT        </td><td>49928.77500</td><td> 8.837770  </td><td>0.9728563  </td><td>5.650477   </td><td>0.6556902  </td><td>10.818353  </td><td>2.179035   </td><td>1.731740   </td><td>0          </td><td>0          </td></tr>\n",
       "\t<tr><td>2002-01-01 </td><td>Atlanta    </td><td>IND        </td><td>   25.33800</td><td> 4.548400  </td><td>0.9728563  </td><td>5.650477   </td><td>0.6556902  </td><td> 3.232305  </td><td>1.514775   </td><td>1.731740   </td><td>0          </td><td>0          </td></tr>\n",
       "</tbody>\n",
       "</table>\n"
      ],
      "text/latex": [
       "\\begin{tabular}{r|lllllllllllll}\n",
       " Date & MetroArea & SECTOR & rent\\_value & err\\_value & AAA & OTR\\_USD\\_10YR & USD\\_GRM\\_spread & log\\_index & log\\_rent & log\\_10year\\_rate & inelastic & intersect\\\\\n",
       "\\hline\n",
       "\t 2001-01-01  & Atlanta     & APT         & 57002.15550 &  9.029698   & 1.4452716   & 5.631395    & 0.8694115   & 10.950844   & 2.200519    & 1.728357    & 0           & 0          \\\\\n",
       "\t 2001-01-01  & Atlanta     & IND         &    38.93760 &  4.477118   & 1.4452716   & 5.631395    & 0.8694115   &  3.661960   & 1.498980    & 1.728357    & 0           & 0          \\\\\n",
       "\t 2001-01-01  & Atlanta     & OFF         &    73.26115 & 19.114560   & 1.4452716   & 5.631395    & 0.8694115   &  4.294030   & 2.950450    & 1.728357    & 0           & 0          \\\\\n",
       "\t 2001-01-01  & Atlanta     & RET         &    67.33691 & 13.466975   & 1.4452716   & 5.631395    & 0.8694115   &  4.209709   & 2.600240    & 1.728357    & 0           & 0          \\\\\n",
       "\t 2002-01-01  & Atlanta     & APT         & 49928.77500 &  8.837770   & 0.9728563   & 5.650477    & 0.6556902   & 10.818353   & 2.179035    & 1.731740    & 0           & 0          \\\\\n",
       "\t 2002-01-01  & Atlanta     & IND         &    25.33800 &  4.548400   & 0.9728563   & 5.650477    & 0.6556902   &  3.232305   & 1.514775    & 1.731740    & 0           & 0          \\\\\n",
       "\\end{tabular}\n"
      ],
      "text/plain": [
       "  Date       MetroArea SECTOR rent_value  err_value AAA       OTR_USD_10YR\n",
       "1 2001-01-01 Atlanta   APT    57002.15550  9.029698 1.4452716 5.631395    \n",
       "2 2001-01-01 Atlanta   IND       38.93760  4.477118 1.4452716 5.631395    \n",
       "3 2001-01-01 Atlanta   OFF       73.26115 19.114560 1.4452716 5.631395    \n",
       "4 2001-01-01 Atlanta   RET       67.33691 13.466975 1.4452716 5.631395    \n",
       "5 2002-01-01 Atlanta   APT    49928.77500  8.837770 0.9728563 5.650477    \n",
       "6 2002-01-01 Atlanta   IND       25.33800  4.548400 0.9728563 5.650477    \n",
       "  USD_GRM_spread log_index log_rent log_10year_rate inelastic intersect\n",
       "1 0.8694115      10.950844 2.200519 1.728357        0         0        \n",
       "2 0.8694115       3.661960 1.498980 1.728357        0         0        \n",
       "3 0.8694115       4.294030 2.950450 1.728357        0         0        \n",
       "4 0.8694115       4.209709 2.600240 1.728357        0         0        \n",
       "5 0.6556902      10.818353 2.179035 1.731740        0         0        \n",
       "6 0.6556902       3.232305 1.514775 1.731740        0         0        "
      ]
     },
     "metadata": {},
     "output_type": "display_data"
    }
   ],
   "source": [
    "head(data)"
   ]
  },
  {
   "cell_type": "code",
   "execution_count": 11,
   "metadata": {
    "collapsed": false
   },
   "outputs": [
    {
     "data": {
      "text/html": [
       "<ol class=list-inline>\n",
       "\t<li>'Atlanta'</li>\n",
       "\t<li>'Austin'</li>\n",
       "\t<li>'Boston'</li>\n",
       "\t<li>'Charlotte'</li>\n",
       "\t<li>'Chicago'</li>\n",
       "\t<li>'Dallas'</li>\n",
       "\t<li>'DC Metro'</li>\n",
       "\t<li>'Denver'</li>\n",
       "\t<li>'Houston'</li>\n",
       "\t<li>'LA Metro'</li>\n",
       "\t<li>'Memphis'</li>\n",
       "\t<li>'Minneapolis'</li>\n",
       "\t<li>'NYC Metro'</li>\n",
       "\t<li>'Orlando'</li>\n",
       "\t<li>'Phila Metro'</li>\n",
       "\t<li>'Phoenix'</li>\n",
       "\t<li>'Portland'</li>\n",
       "\t<li>'Raleigh/Durham'</li>\n",
       "\t<li>'Sacramento'</li>\n",
       "\t<li>'San Diego'</li>\n",
       "\t<li>'Seattle'</li>\n",
       "\t<li>'SF Metro'</li>\n",
       "\t<li>'So Fla'</li>\n",
       "\t<li>'Tampa'</li>\n",
       "</ol>\n"
      ],
      "text/latex": [
       "\\begin{enumerate*}\n",
       "\\item 'Atlanta'\n",
       "\\item 'Austin'\n",
       "\\item 'Boston'\n",
       "\\item 'Charlotte'\n",
       "\\item 'Chicago'\n",
       "\\item 'Dallas'\n",
       "\\item 'DC Metro'\n",
       "\\item 'Denver'\n",
       "\\item 'Houston'\n",
       "\\item 'LA Metro'\n",
       "\\item 'Memphis'\n",
       "\\item 'Minneapolis'\n",
       "\\item 'NYC Metro'\n",
       "\\item 'Orlando'\n",
       "\\item 'Phila Metro'\n",
       "\\item 'Phoenix'\n",
       "\\item 'Portland'\n",
       "\\item 'Raleigh/Durham'\n",
       "\\item 'Sacramento'\n",
       "\\item 'San Diego'\n",
       "\\item 'Seattle'\n",
       "\\item 'SF Metro'\n",
       "\\item 'So Fla'\n",
       "\\item 'Tampa'\n",
       "\\end{enumerate*}\n"
      ],
      "text/markdown": [
       "1. 'Atlanta'\n",
       "2. 'Austin'\n",
       "3. 'Boston'\n",
       "4. 'Charlotte'\n",
       "5. 'Chicago'\n",
       "6. 'Dallas'\n",
       "7. 'DC Metro'\n",
       "8. 'Denver'\n",
       "9. 'Houston'\n",
       "10. 'LA Metro'\n",
       "11. 'Memphis'\n",
       "12. 'Minneapolis'\n",
       "13. 'NYC Metro'\n",
       "14. 'Orlando'\n",
       "15. 'Phila Metro'\n",
       "16. 'Phoenix'\n",
       "17. 'Portland'\n",
       "18. 'Raleigh/Durham'\n",
       "19. 'Sacramento'\n",
       "20. 'San Diego'\n",
       "21. 'Seattle'\n",
       "22. 'SF Metro'\n",
       "23. 'So Fla'\n",
       "24. 'Tampa'\n",
       "\n",
       "\n"
      ],
      "text/plain": [
       " [1] \"Atlanta\"        \"Austin\"         \"Boston\"         \"Charlotte\"     \n",
       " [5] \"Chicago\"        \"Dallas\"         \"DC Metro\"       \"Denver\"        \n",
       " [9] \"Houston\"        \"LA Metro\"       \"Memphis\"        \"Minneapolis\"   \n",
       "[13] \"NYC Metro\"      \"Orlando\"        \"Phila Metro\"    \"Phoenix\"       \n",
       "[17] \"Portland\"       \"Raleigh/Durham\" \"Sacramento\"     \"San Diego\"     \n",
       "[21] \"Seattle\"        \"SF Metro\"       \"So Fla\"         \"Tampa\"         "
      ]
     },
     "metadata": {},
     "output_type": "display_data"
    }
   ],
   "source": [
    "levels(factor(data[,2]))"
   ]
  },
  {
   "cell_type": "code",
   "execution_count": 12,
   "metadata": {
    "collapsed": false
   },
   "outputs": [],
   "source": [
    "data<-cbind(paste0(data[,2],'.',data[,3]),data)\n",
    "data<-data[,c(-3,-4)]"
   ]
  },
  {
   "cell_type": "code",
   "execution_count": 13,
   "metadata": {
    "collapsed": false
   },
   "outputs": [],
   "source": [
    "colnames(data)[1]='sector'"
   ]
  },
  {
   "cell_type": "code",
   "execution_count": 14,
   "metadata": {
    "collapsed": false
   },
   "outputs": [],
   "source": [
    "data[,2]=ts(data[,2])  #convert to time series"
   ]
  },
  {
   "cell_type": "code",
   "execution_count": 15,
   "metadata": {
    "collapsed": false
   },
   "outputs": [],
   "source": [
    "pdata<-pdata.frame(data,index=c('sector','Date'),drop.index=TRUE,row.names = TRUE)"
   ]
  },
  {
   "cell_type": "code",
   "execution_count": 16,
   "metadata": {
    "collapsed": false
   },
   "outputs": [
    {
     "data": {
      "text/html": [
       "<table>\n",
       "<thead><tr><th></th><th scope=col>rent_value</th><th scope=col>err_value</th><th scope=col>AAA</th><th scope=col>OTR_USD_10YR</th><th scope=col>USD_GRM_spread</th><th scope=col>log_index</th><th scope=col>log_rent</th><th scope=col>log_10year_rate</th><th scope=col>inelastic</th><th scope=col>intersect</th></tr></thead>\n",
       "<tbody>\n",
       "\t<tr><th scope=row>Atlanta.APT-11323</th><td>57002.16 </td><td>9.029698 </td><td>1.4452716</td><td>5.631395 </td><td>0.8694115</td><td>10.95084 </td><td>2.200519 </td><td>1.728357 </td><td>0        </td><td>0        </td></tr>\n",
       "\t<tr><th scope=row>Atlanta.APT-11413</th><td>63332.01 </td><td>9.084535 </td><td>1.3725349</td><td>5.850798 </td><td>0.8657667</td><td>11.05615 </td><td>2.206574 </td><td>1.766578 </td><td>0        </td><td>0        </td></tr>\n",
       "\t<tr><th scope=row>Atlanta.APT-11504</th><td>60689.42 </td><td>9.029698 </td><td>1.5403086</td><td>5.566358 </td><td>0.6681323</td><td>11.01352 </td><td>2.200519 </td><td>1.716741 </td><td>0        </td><td>0        </td></tr>\n",
       "\t<tr><th scope=row>Atlanta.APT-11596</th><td>65262.70 </td><td>8.947444 </td><td>1.6046104</td><td>5.318723 </td><td>0.6950836</td><td>11.08618 </td><td>2.191368 </td><td>1.671233 </td><td>0        </td><td>0        </td></tr>\n",
       "\t<tr><th scope=row>Atlanta.APT-11688</th><td>49928.78 </td><td>8.837770 </td><td>0.9728563</td><td>5.650477 </td><td>0.6556902</td><td>10.81835 </td><td>2.179035 </td><td>1.731740 </td><td>0        </td><td>0        </td></tr>\n",
       "\t<tr><th scope=row>Atlanta.APT-11778</th><td>65793.94 </td><td>8.700679 </td><td>1.0426411</td><td>5.670692 </td><td>0.5447391</td><td>11.09428 </td><td>2.163401 </td><td>1.735311 </td><td>0        </td><td>0        </td></tr>\n",
       "</tbody>\n",
       "</table>\n"
      ],
      "text/latex": [
       "\\begin{tabular}{r|llllllllll}\n",
       "  & rent\\_value & err\\_value & AAA & OTR\\_USD\\_10YR & USD\\_GRM\\_spread & log\\_index & log\\_rent & log\\_10year\\_rate & inelastic & intersect\\\\\n",
       "\\hline\n",
       "\tAtlanta.APT-11323 & 57002.16  & 9.029698  & 1.4452716 & 5.631395  & 0.8694115 & 10.95084  & 2.200519  & 1.728357  & 0         & 0        \\\\\n",
       "\tAtlanta.APT-11413 & 63332.01  & 9.084535  & 1.3725349 & 5.850798  & 0.8657667 & 11.05615  & 2.206574  & 1.766578  & 0         & 0        \\\\\n",
       "\tAtlanta.APT-11504 & 60689.42  & 9.029698  & 1.5403086 & 5.566358  & 0.6681323 & 11.01352  & 2.200519  & 1.716741  & 0         & 0        \\\\\n",
       "\tAtlanta.APT-11596 & 65262.70  & 8.947444  & 1.6046104 & 5.318723  & 0.6950836 & 11.08618  & 2.191368  & 1.671233  & 0         & 0        \\\\\n",
       "\tAtlanta.APT-11688 & 49928.78  & 8.837770  & 0.9728563 & 5.650477  & 0.6556902 & 10.81835  & 2.179035  & 1.731740  & 0         & 0        \\\\\n",
       "\tAtlanta.APT-11778 & 65793.94  & 8.700679  & 1.0426411 & 5.670692  & 0.5447391 & 11.09428  & 2.163401  & 1.735311  & 0         & 0        \\\\\n",
       "\\end{tabular}\n"
      ],
      "text/plain": [
       "                  rent_value err_value AAA       OTR_USD_10YR USD_GRM_spread\n",
       "Atlanta.APT-11323 57002.16   9.029698  1.4452716 5.631395     0.8694115     \n",
       "Atlanta.APT-11413 63332.01   9.084535  1.3725349 5.850798     0.8657667     \n",
       "Atlanta.APT-11504 60689.42   9.029698  1.5403086 5.566358     0.6681323     \n",
       "Atlanta.APT-11596 65262.70   8.947444  1.6046104 5.318723     0.6950836     \n",
       "Atlanta.APT-11688 49928.78   8.837770  0.9728563 5.650477     0.6556902     \n",
       "Atlanta.APT-11778 65793.94   8.700679  1.0426411 5.670692     0.5447391     \n",
       "                  log_index log_rent log_10year_rate inelastic intersect\n",
       "Atlanta.APT-11323 10.95084  2.200519 1.728357        0         0        \n",
       "Atlanta.APT-11413 11.05615  2.206574 1.766578        0         0        \n",
       "Atlanta.APT-11504 11.01352  2.200519 1.716741        0         0        \n",
       "Atlanta.APT-11596 11.08618  2.191368 1.671233        0         0        \n",
       "Atlanta.APT-11688 10.81835  2.179035 1.731740        0         0        \n",
       "Atlanta.APT-11778 11.09428  2.163401 1.735311        0         0        "
      ]
     },
     "metadata": {},
     "output_type": "display_data"
    }
   ],
   "source": [
    "head(pdata)"
   ]
  },
  {
   "cell_type": "code",
   "execution_count": 17,
   "metadata": {
    "collapsed": false
   },
   "outputs": [],
   "source": [
    "res<-pggls(log_index~log_rent+USD_GRM_spread+AAA+log_10year_rate+intersect,data=pdata,effect='individual',model='pooling')"
   ]
  },
  {
   "cell_type": "code",
   "execution_count": 18,
   "metadata": {
    "collapsed": false
   },
   "outputs": [
    {
     "data": {
      "text/plain": [
       " NA\n",
       "\n",
       "Call:\n",
       "pggls(formula = log_index ~ log_rent + USD_GRM_spread + AAA + \n",
       "    log_10year_rate + intersect, data = pdata, effect = \"individual\", \n",
       "    model = \"pooling\")\n",
       "\n",
       "Unbalanced Panel: n=87, T=61-63, N=5479\n",
       "\n",
       "Residuals\n",
       "   Min. 1st Qu.  Median    Mean 3rd Qu.    Max. \n",
       "-3.9620 -2.2410 -1.9640 -0.4041  3.8630  5.6960 \n",
       "\n",
       "Coefficients\n",
       "                  Estimate Std. Error  z-value Pr(>|z|)    \n",
       "(Intercept)      5.3119767  0.1988989  26.7069   <2e-16 ***\n",
       "log_rent         0.7560376  0.0275775  27.4150   <2e-16 ***\n",
       "USD_GRM_spread   0.0638088  0.0059921  10.6489   <2e-16 ***\n",
       "AAA             -0.1276658  0.0071104 -17.9547   <2e-16 ***\n",
       "log_10year_rate -0.2728329  0.0150734 -18.1003   <2e-16 ***\n",
       "intersect        0.0293498  0.0134000   2.1903   0.0285 *  \n",
       "---\n",
       "Signif. codes:  0 '***' 0.001 '**' 0.01 '*' 0.05 '.' 0.1 ' ' 1\n",
       "Total Sum of Squares: 48523\n",
       "Residual Sum of Squares: 48343\n",
       "Multiple R-squared: 0.0037093"
      ]
     },
     "metadata": {},
     "output_type": "display_data"
    }
   ],
   "source": [
    "summary(res)"
   ]
  },
  {
   "cell_type": "code",
   "execution_count": 19,
   "metadata": {
    "collapsed": true
   },
   "outputs": [],
   "source": [
    "data2<-read.csv('metro_level_clean_data2.csv')\n",
    "data2[,1]=as.Date(data2[,1],format=\"%m/%d/%Y\")  #convert to time series"
   ]
  },
  {
   "cell_type": "code",
   "execution_count": 20,
   "metadata": {
    "collapsed": false
   },
   "outputs": [
    {
     "data": {
      "text/html": [
       "<ol class=list-inline>\n",
       "\t<li>'Atlanta'</li>\n",
       "\t<li>'Austin'</li>\n",
       "\t<li>'Baltimore'</li>\n",
       "\t<li>'Birmingham(AL)'</li>\n",
       "\t<li>'Boston'</li>\n",
       "\t<li>'Charlotte'</li>\n",
       "\t<li>'Chicago'</li>\n",
       "\t<li>'Cincinnati'</li>\n",
       "\t<li>'Cleveland'</li>\n",
       "\t<li>'Columbus'</li>\n",
       "\t<li>'Dallas'</li>\n",
       "\t<li>'DC Metro'</li>\n",
       "\t<li>'Denver'</li>\n",
       "\t<li>'Detroit'</li>\n",
       "\t<li>'Greensboro'</li>\n",
       "\t<li>'Hartford'</li>\n",
       "\t<li>'Houston'</li>\n",
       "\t<li>'Jacksonville'</li>\n",
       "\t<li>'Kansas City'</li>\n",
       "\t<li>'LA Metro'</li>\n",
       "\t<li>'Las Vegas'</li>\n",
       "\t<li>'Louisville'</li>\n",
       "\t<li>'Memphis'</li>\n",
       "\t<li>'Milwaukee'</li>\n",
       "\t<li>'Minneapolis'</li>\n",
       "\t<li>'Nashville'</li>\n",
       "\t<li>'Norfolk'</li>\n",
       "\t<li>'NYC Metro'</li>\n",
       "\t<li>'Orlando'</li>\n",
       "\t<li>'Phila Metro'</li>\n",
       "\t<li>'Phoenix'</li>\n",
       "\t<li>'Pittsburgh'</li>\n",
       "\t<li>'Portland'</li>\n",
       "\t<li>'Raleigh/Durham'</li>\n",
       "\t<li>'Richmond'</li>\n",
       "\t<li>'Sacramento'</li>\n",
       "\t<li>'Salt Lake City'</li>\n",
       "\t<li>'San Antonio'</li>\n",
       "\t<li>'San Diego'</li>\n",
       "\t<li>'Seattle'</li>\n",
       "\t<li>'SF Metro'</li>\n",
       "\t<li>'So Fla'</li>\n",
       "\t<li>'St Louis'</li>\n",
       "\t<li>'Tampa'</li>\n",
       "\t<li>'Tucson'</li>\n",
       "</ol>\n"
      ],
      "text/latex": [
       "\\begin{enumerate*}\n",
       "\\item 'Atlanta'\n",
       "\\item 'Austin'\n",
       "\\item 'Baltimore'\n",
       "\\item 'Birmingham(AL)'\n",
       "\\item 'Boston'\n",
       "\\item 'Charlotte'\n",
       "\\item 'Chicago'\n",
       "\\item 'Cincinnati'\n",
       "\\item 'Cleveland'\n",
       "\\item 'Columbus'\n",
       "\\item 'Dallas'\n",
       "\\item 'DC Metro'\n",
       "\\item 'Denver'\n",
       "\\item 'Detroit'\n",
       "\\item 'Greensboro'\n",
       "\\item 'Hartford'\n",
       "\\item 'Houston'\n",
       "\\item 'Jacksonville'\n",
       "\\item 'Kansas City'\n",
       "\\item 'LA Metro'\n",
       "\\item 'Las Vegas'\n",
       "\\item 'Louisville'\n",
       "\\item 'Memphis'\n",
       "\\item 'Milwaukee'\n",
       "\\item 'Minneapolis'\n",
       "\\item 'Nashville'\n",
       "\\item 'Norfolk'\n",
       "\\item 'NYC Metro'\n",
       "\\item 'Orlando'\n",
       "\\item 'Phila Metro'\n",
       "\\item 'Phoenix'\n",
       "\\item 'Pittsburgh'\n",
       "\\item 'Portland'\n",
       "\\item 'Raleigh/Durham'\n",
       "\\item 'Richmond'\n",
       "\\item 'Sacramento'\n",
       "\\item 'Salt Lake City'\n",
       "\\item 'San Antonio'\n",
       "\\item 'San Diego'\n",
       "\\item 'Seattle'\n",
       "\\item 'SF Metro'\n",
       "\\item 'So Fla'\n",
       "\\item 'St Louis'\n",
       "\\item 'Tampa'\n",
       "\\item 'Tucson'\n",
       "\\end{enumerate*}\n"
      ],
      "text/markdown": [
       "1. 'Atlanta'\n",
       "2. 'Austin'\n",
       "3. 'Baltimore'\n",
       "4. 'Birmingham(AL)'\n",
       "5. 'Boston'\n",
       "6. 'Charlotte'\n",
       "7. 'Chicago'\n",
       "8. 'Cincinnati'\n",
       "9. 'Cleveland'\n",
       "10. 'Columbus'\n",
       "11. 'Dallas'\n",
       "12. 'DC Metro'\n",
       "13. 'Denver'\n",
       "14. 'Detroit'\n",
       "15. 'Greensboro'\n",
       "16. 'Hartford'\n",
       "17. 'Houston'\n",
       "18. 'Jacksonville'\n",
       "19. 'Kansas City'\n",
       "20. 'LA Metro'\n",
       "21. 'Las Vegas'\n",
       "22. 'Louisville'\n",
       "23. 'Memphis'\n",
       "24. 'Milwaukee'\n",
       "25. 'Minneapolis'\n",
       "26. 'Nashville'\n",
       "27. 'Norfolk'\n",
       "28. 'NYC Metro'\n",
       "29. 'Orlando'\n",
       "30. 'Phila Metro'\n",
       "31. 'Phoenix'\n",
       "32. 'Pittsburgh'\n",
       "33. 'Portland'\n",
       "34. 'Raleigh/Durham'\n",
       "35. 'Richmond'\n",
       "36. 'Sacramento'\n",
       "37. 'Salt Lake City'\n",
       "38. 'San Antonio'\n",
       "39. 'San Diego'\n",
       "40. 'Seattle'\n",
       "41. 'SF Metro'\n",
       "42. 'So Fla'\n",
       "43. 'St Louis'\n",
       "44. 'Tampa'\n",
       "45. 'Tucson'\n",
       "\n",
       "\n"
      ],
      "text/plain": [
       " [1] \"Atlanta\"        \"Austin\"         \"Baltimore\"      \"Birmingham(AL)\"\n",
       " [5] \"Boston\"         \"Charlotte\"      \"Chicago\"        \"Cincinnati\"    \n",
       " [9] \"Cleveland\"      \"Columbus\"       \"Dallas\"         \"DC Metro\"      \n",
       "[13] \"Denver\"         \"Detroit\"        \"Greensboro\"     \"Hartford\"      \n",
       "[17] \"Houston\"        \"Jacksonville\"   \"Kansas City\"    \"LA Metro\"      \n",
       "[21] \"Las Vegas\"      \"Louisville\"     \"Memphis\"        \"Milwaukee\"     \n",
       "[25] \"Minneapolis\"    \"Nashville\"      \"Norfolk\"        \"NYC Metro\"     \n",
       "[29] \"Orlando\"        \"Phila Metro\"    \"Phoenix\"        \"Pittsburgh\"    \n",
       "[33] \"Portland\"       \"Raleigh/Durham\" \"Richmond\"       \"Sacramento\"    \n",
       "[37] \"Salt Lake City\" \"San Antonio\"    \"San Diego\"      \"Seattle\"       \n",
       "[41] \"SF Metro\"       \"So Fla\"         \"St Louis\"       \"Tampa\"         \n",
       "[45] \"Tucson\"        "
      ]
     },
     "metadata": {},
     "output_type": "display_data"
    }
   ],
   "source": [
    "levels(factor(data2[,2]))"
   ]
  },
  {
   "cell_type": "code",
   "execution_count": 21,
   "metadata": {
    "collapsed": false
   },
   "outputs": [
    {
     "data": {
      "text/html": [
       "<table>\n",
       "<thead><tr><th scope=col>Date</th><th scope=col>MetroArea</th><th scope=col>SECTOR</th><th scope=col>rent_value</th><th scope=col>EffRentDollars</th><th scope=col>AAA</th><th scope=col>OTR_USD_10YR</th><th scope=col>USD_GRM_spread</th><th scope=col>log_index</th><th scope=col>log_EffRentDollars</th><th scope=col>log_10year_rate</th><th scope=col>inelastic</th><th scope=col>intersect</th></tr></thead>\n",
       "<tbody>\n",
       "\t<tr><td>2001-01-01 </td><td>Atlanta    </td><td>APT        </td><td>57002.15550</td><td>789.00     </td><td>1.4452716  </td><td>5.631395   </td><td>0.8694115  </td><td>10.950844  </td><td>6.670766   </td><td>1.728357   </td><td>0          </td><td>0          </td></tr>\n",
       "\t<tr><td>2001-01-01 </td><td>Atlanta    </td><td>OFF        </td><td>   73.26115</td><td> 18.77     </td><td>1.4452716  </td><td>5.631395   </td><td>0.8694115  </td><td> 4.294030  </td><td>2.932260   </td><td>1.728357   </td><td>0          </td><td>0          </td></tr>\n",
       "\t<tr><td>2001-01-01 </td><td>Atlanta    </td><td>RET        </td><td>   67.33691</td><td> 13.98     </td><td>1.4452716  </td><td>5.631395   </td><td>0.8694115  </td><td> 4.209709  </td><td>2.637628   </td><td>1.728357   </td><td>0          </td><td>0          </td></tr>\n",
       "\t<tr><td>2002-01-01 </td><td>Atlanta    </td><td>APT        </td><td>49928.77500</td><td>761.00     </td><td>0.9728563  </td><td>5.650477   </td><td>0.6556902  </td><td>10.818353  </td><td>6.634633   </td><td>1.731740   </td><td>0          </td><td>0          </td></tr>\n",
       "\t<tr><td>2002-01-01 </td><td>Atlanta    </td><td>OFF        </td><td>  158.12422</td><td> 17.65     </td><td>0.9728563  </td><td>5.650477   </td><td>0.6556902  </td><td> 5.063381  </td><td>2.870736   </td><td>1.731740   </td><td>0          </td><td>0          </td></tr>\n",
       "\t<tr><td>2002-01-01 </td><td>Atlanta    </td><td>RET        </td><td>  120.05343</td><td> 14.01     </td><td>0.9728563  </td><td>5.650477   </td><td>0.6556902  </td><td> 4.787937  </td><td>2.639771   </td><td>1.731740   </td><td>0          </td><td>0          </td></tr>\n",
       "</tbody>\n",
       "</table>\n"
      ],
      "text/latex": [
       "\\begin{tabular}{r|lllllllllllll}\n",
       " Date & MetroArea & SECTOR & rent\\_value & EffRentDollars & AAA & OTR\\_USD\\_10YR & USD\\_GRM\\_spread & log\\_index & log\\_EffRentDollars & log\\_10year\\_rate & inelastic & intersect\\\\\n",
       "\\hline\n",
       "\t 2001-01-01  & Atlanta     & APT         & 57002.15550 & 789.00      & 1.4452716   & 5.631395    & 0.8694115   & 10.950844   & 6.670766    & 1.728357    & 0           & 0          \\\\\n",
       "\t 2001-01-01  & Atlanta     & OFF         &    73.26115 &  18.77      & 1.4452716   & 5.631395    & 0.8694115   &  4.294030   & 2.932260    & 1.728357    & 0           & 0          \\\\\n",
       "\t 2001-01-01  & Atlanta     & RET         &    67.33691 &  13.98      & 1.4452716   & 5.631395    & 0.8694115   &  4.209709   & 2.637628    & 1.728357    & 0           & 0          \\\\\n",
       "\t 2002-01-01  & Atlanta     & APT         & 49928.77500 & 761.00      & 0.9728563   & 5.650477    & 0.6556902   & 10.818353   & 6.634633    & 1.731740    & 0           & 0          \\\\\n",
       "\t 2002-01-01  & Atlanta     & OFF         &   158.12422 &  17.65      & 0.9728563   & 5.650477    & 0.6556902   &  5.063381   & 2.870736    & 1.731740    & 0           & 0          \\\\\n",
       "\t 2002-01-01  & Atlanta     & RET         &   120.05343 &  14.01      & 0.9728563   & 5.650477    & 0.6556902   &  4.787937   & 2.639771    & 1.731740    & 0           & 0          \\\\\n",
       "\\end{tabular}\n"
      ],
      "text/plain": [
       "  Date       MetroArea SECTOR rent_value  EffRentDollars AAA       OTR_USD_10YR\n",
       "1 2001-01-01 Atlanta   APT    57002.15550 789.00         1.4452716 5.631395    \n",
       "2 2001-01-01 Atlanta   OFF       73.26115  18.77         1.4452716 5.631395    \n",
       "3 2001-01-01 Atlanta   RET       67.33691  13.98         1.4452716 5.631395    \n",
       "4 2002-01-01 Atlanta   APT    49928.77500 761.00         0.9728563 5.650477    \n",
       "5 2002-01-01 Atlanta   OFF      158.12422  17.65         0.9728563 5.650477    \n",
       "6 2002-01-01 Atlanta   RET      120.05343  14.01         0.9728563 5.650477    \n",
       "  USD_GRM_spread log_index log_EffRentDollars log_10year_rate inelastic\n",
       "1 0.8694115      10.950844 6.670766           1.728357        0        \n",
       "2 0.8694115       4.294030 2.932260           1.728357        0        \n",
       "3 0.8694115       4.209709 2.637628           1.728357        0        \n",
       "4 0.6556902      10.818353 6.634633           1.731740        0        \n",
       "5 0.6556902       5.063381 2.870736           1.731740        0        \n",
       "6 0.6556902       4.787937 2.639771           1.731740        0        \n",
       "  intersect\n",
       "1 0        \n",
       "2 0        \n",
       "3 0        \n",
       "4 0        \n",
       "5 0        \n",
       "6 0        "
      ]
     },
     "metadata": {},
     "output_type": "display_data"
    }
   ],
   "source": [
    "head(data2)"
   ]
  },
  {
   "cell_type": "code",
   "execution_count": 22,
   "metadata": {
    "collapsed": true
   },
   "outputs": [],
   "source": [
    "data2<-cbind(paste0(data2[,2],'.',data2[,3]),data2)\n",
    "data2<-data2[,c(-3,-4)]"
   ]
  },
  {
   "cell_type": "code",
   "execution_count": 23,
   "metadata": {
    "collapsed": true
   },
   "outputs": [],
   "source": [
    "colnames(data2)[1]='sector'"
   ]
  },
  {
   "cell_type": "code",
   "execution_count": 24,
   "metadata": {
    "collapsed": false
   },
   "outputs": [],
   "source": [
    "data2[,2]=ts(data2[,2])  #convert to time series\n",
    "pdata2<-pdata.frame(data2,index=c('sector','Date'),drop.index=TRUE,row.names = TRUE)"
   ]
  },
  {
   "cell_type": "code",
   "execution_count": 25,
   "metadata": {
    "collapsed": false
   },
   "outputs": [
    {
     "data": {
      "text/html": [
       "<table>\n",
       "<thead><tr><th></th><th scope=col>rent_value</th><th scope=col>EffRentDollars</th><th scope=col>AAA</th><th scope=col>OTR_USD_10YR</th><th scope=col>USD_GRM_spread</th><th scope=col>log_index</th><th scope=col>log_EffRentDollars</th><th scope=col>log_10year_rate</th><th scope=col>inelastic</th><th scope=col>intersect</th></tr></thead>\n",
       "<tbody>\n",
       "\t<tr><th scope=row>Atlanta.APT-11323</th><td>57002.16 </td><td>789      </td><td>1.4452716</td><td>5.631395 </td><td>0.8694115</td><td>10.95084 </td><td>6.670766 </td><td>1.728357 </td><td>0        </td><td>0        </td></tr>\n",
       "\t<tr><th scope=row>Atlanta.APT-11413</th><td>63332.01 </td><td>791      </td><td>1.3725349</td><td>5.850798 </td><td>0.8657667</td><td>11.05615 </td><td>6.673298 </td><td>1.766578 </td><td>0        </td><td>0        </td></tr>\n",
       "\t<tr><th scope=row>Atlanta.APT-11504</th><td>60689.42 </td><td>790      </td><td>1.5403086</td><td>5.566358 </td><td>0.6681323</td><td>11.01352 </td><td>6.672033 </td><td>1.716741 </td><td>0        </td><td>0        </td></tr>\n",
       "\t<tr><th scope=row>Atlanta.APT-11596</th><td>65262.70 </td><td>775      </td><td>1.6046104</td><td>5.318723 </td><td>0.6950836</td><td>11.08618 </td><td>6.652863 </td><td>1.671233 </td><td>0        </td><td>0        </td></tr>\n",
       "\t<tr><th scope=row>Atlanta.APT-11688</th><td>49928.78 </td><td>761      </td><td>0.9728563</td><td>5.650477 </td><td>0.6556902</td><td>10.81835 </td><td>6.634633 </td><td>1.731740 </td><td>0        </td><td>0        </td></tr>\n",
       "\t<tr><th scope=row>Atlanta.APT-11778</th><td>65793.94 </td><td>756      </td><td>1.0426411</td><td>5.670692 </td><td>0.5447391</td><td>11.09428 </td><td>6.628041 </td><td>1.735311 </td><td>0        </td><td>0        </td></tr>\n",
       "</tbody>\n",
       "</table>\n"
      ],
      "text/latex": [
       "\\begin{tabular}{r|llllllllll}\n",
       "  & rent\\_value & EffRentDollars & AAA & OTR\\_USD\\_10YR & USD\\_GRM\\_spread & log\\_index & log\\_EffRentDollars & log\\_10year\\_rate & inelastic & intersect\\\\\n",
       "\\hline\n",
       "\tAtlanta.APT-11323 & 57002.16  & 789       & 1.4452716 & 5.631395  & 0.8694115 & 10.95084  & 6.670766  & 1.728357  & 0         & 0        \\\\\n",
       "\tAtlanta.APT-11413 & 63332.01  & 791       & 1.3725349 & 5.850798  & 0.8657667 & 11.05615  & 6.673298  & 1.766578  & 0         & 0        \\\\\n",
       "\tAtlanta.APT-11504 & 60689.42  & 790       & 1.5403086 & 5.566358  & 0.6681323 & 11.01352  & 6.672033  & 1.716741  & 0         & 0        \\\\\n",
       "\tAtlanta.APT-11596 & 65262.70  & 775       & 1.6046104 & 5.318723  & 0.6950836 & 11.08618  & 6.652863  & 1.671233  & 0         & 0        \\\\\n",
       "\tAtlanta.APT-11688 & 49928.78  & 761       & 0.9728563 & 5.650477  & 0.6556902 & 10.81835  & 6.634633  & 1.731740  & 0         & 0        \\\\\n",
       "\tAtlanta.APT-11778 & 65793.94  & 756       & 1.0426411 & 5.670692  & 0.5447391 & 11.09428  & 6.628041  & 1.735311  & 0         & 0        \\\\\n",
       "\\end{tabular}\n"
      ],
      "text/plain": [
       "                  rent_value EffRentDollars AAA       OTR_USD_10YR\n",
       "Atlanta.APT-11323 57002.16   789            1.4452716 5.631395    \n",
       "Atlanta.APT-11413 63332.01   791            1.3725349 5.850798    \n",
       "Atlanta.APT-11504 60689.42   790            1.5403086 5.566358    \n",
       "Atlanta.APT-11596 65262.70   775            1.6046104 5.318723    \n",
       "Atlanta.APT-11688 49928.78   761            0.9728563 5.650477    \n",
       "Atlanta.APT-11778 65793.94   756            1.0426411 5.670692    \n",
       "                  USD_GRM_spread log_index log_EffRentDollars log_10year_rate\n",
       "Atlanta.APT-11323 0.8694115      10.95084  6.670766           1.728357       \n",
       "Atlanta.APT-11413 0.8657667      11.05615  6.673298           1.766578       \n",
       "Atlanta.APT-11504 0.6681323      11.01352  6.672033           1.716741       \n",
       "Atlanta.APT-11596 0.6950836      11.08618  6.652863           1.671233       \n",
       "Atlanta.APT-11688 0.6556902      10.81835  6.634633           1.731740       \n",
       "Atlanta.APT-11778 0.5447391      11.09428  6.628041           1.735311       \n",
       "                  inelastic intersect\n",
       "Atlanta.APT-11323 0         0        \n",
       "Atlanta.APT-11413 0         0        \n",
       "Atlanta.APT-11504 0         0        \n",
       "Atlanta.APT-11596 0         0        \n",
       "Atlanta.APT-11688 0         0        \n",
       "Atlanta.APT-11778 0         0        "
      ]
     },
     "metadata": {},
     "output_type": "display_data"
    }
   ],
   "source": [
    "head(pdata2)"
   ]
  },
  {
   "cell_type": "code",
   "execution_count": 26,
   "metadata": {
    "collapsed": false
   },
   "outputs": [
    {
     "data": {
      "text/html": [
       "<table>\n",
       "<thead><tr><th scope=col>sector</th><th scope=col>Date</th><th scope=col>rent_value</th><th scope=col>EffRentDollars</th><th scope=col>AAA</th><th scope=col>OTR_USD_10YR</th><th scope=col>USD_GRM_spread</th><th scope=col>log_index</th><th scope=col>log_EffRentDollars</th><th scope=col>log_10year_rate</th><th scope=col>inelastic</th><th scope=col>intersect</th></tr></thead>\n",
       "<tbody>\n",
       "\t<tr><td>Atlanta.APT</td><td>11323      </td><td>57002.15550</td><td>789.00     </td><td>1.4452716  </td><td>5.631395   </td><td>0.8694115  </td><td>10.950844  </td><td>6.670766   </td><td>1.728357   </td><td>0          </td><td>0          </td></tr>\n",
       "\t<tr><td>Atlanta.OFF</td><td>11323      </td><td>   73.26115</td><td> 18.77     </td><td>1.4452716  </td><td>5.631395   </td><td>0.8694115  </td><td> 4.294030  </td><td>2.932260   </td><td>1.728357   </td><td>0          </td><td>0          </td></tr>\n",
       "\t<tr><td>Atlanta.RET</td><td>11323      </td><td>   67.33691</td><td> 13.98     </td><td>1.4452716  </td><td>5.631395   </td><td>0.8694115  </td><td> 4.209709  </td><td>2.637628   </td><td>1.728357   </td><td>0          </td><td>0          </td></tr>\n",
       "\t<tr><td>Atlanta.APT</td><td>11688      </td><td>49928.77500</td><td>761.00     </td><td>0.9728563  </td><td>5.650477   </td><td>0.6556902  </td><td>10.818353  </td><td>6.634633   </td><td>1.731740   </td><td>0          </td><td>0          </td></tr>\n",
       "\t<tr><td>Atlanta.OFF</td><td>11688      </td><td>  158.12422</td><td> 17.65     </td><td>0.9728563  </td><td>5.650477   </td><td>0.6556902  </td><td> 5.063381  </td><td>2.870736   </td><td>1.731740   </td><td>0          </td><td>0          </td></tr>\n",
       "\t<tr><td>Atlanta.RET</td><td>11688      </td><td>  120.05343</td><td> 14.01     </td><td>0.9728563  </td><td>5.650477   </td><td>0.6556902  </td><td> 4.787937  </td><td>2.639771   </td><td>1.731740   </td><td>0          </td><td>0          </td></tr>\n",
       "</tbody>\n",
       "</table>\n"
      ],
      "text/latex": [
       "\\begin{tabular}{r|llllllllllll}\n",
       " sector & Date & rent\\_value & EffRentDollars & AAA & OTR\\_USD\\_10YR & USD\\_GRM\\_spread & log\\_index & log\\_EffRentDollars & log\\_10year\\_rate & inelastic & intersect\\\\\n",
       "\\hline\n",
       "\t Atlanta.APT & 11323       & 57002.15550 & 789.00      & 1.4452716   & 5.631395    & 0.8694115   & 10.950844   & 6.670766    & 1.728357    & 0           & 0          \\\\\n",
       "\t Atlanta.OFF & 11323       &    73.26115 &  18.77      & 1.4452716   & 5.631395    & 0.8694115   &  4.294030   & 2.932260    & 1.728357    & 0           & 0          \\\\\n",
       "\t Atlanta.RET & 11323       &    67.33691 &  13.98      & 1.4452716   & 5.631395    & 0.8694115   &  4.209709   & 2.637628    & 1.728357    & 0           & 0          \\\\\n",
       "\t Atlanta.APT & 11688       & 49928.77500 & 761.00      & 0.9728563   & 5.650477    & 0.6556902   & 10.818353   & 6.634633    & 1.731740    & 0           & 0          \\\\\n",
       "\t Atlanta.OFF & 11688       &   158.12422 &  17.65      & 0.9728563   & 5.650477    & 0.6556902   &  5.063381   & 2.870736    & 1.731740    & 0           & 0          \\\\\n",
       "\t Atlanta.RET & 11688       &   120.05343 &  14.01      & 0.9728563   & 5.650477    & 0.6556902   &  4.787937   & 2.639771    & 1.731740    & 0           & 0          \\\\\n",
       "\\end{tabular}\n"
      ],
      "text/plain": [
       "  sector      Date  rent_value  EffRentDollars AAA       OTR_USD_10YR\n",
       "1 Atlanta.APT 11323 57002.15550 789.00         1.4452716 5.631395    \n",
       "2 Atlanta.OFF 11323    73.26115  18.77         1.4452716 5.631395    \n",
       "3 Atlanta.RET 11323    67.33691  13.98         1.4452716 5.631395    \n",
       "4 Atlanta.APT 11688 49928.77500 761.00         0.9728563 5.650477    \n",
       "5 Atlanta.OFF 11688   158.12422  17.65         0.9728563 5.650477    \n",
       "6 Atlanta.RET 11688   120.05343  14.01         0.9728563 5.650477    \n",
       "  USD_GRM_spread log_index log_EffRentDollars log_10year_rate inelastic\n",
       "1 0.8694115      10.950844 6.670766           1.728357        0        \n",
       "2 0.8694115       4.294030 2.932260           1.728357        0        \n",
       "3 0.8694115       4.209709 2.637628           1.728357        0        \n",
       "4 0.6556902      10.818353 6.634633           1.731740        0        \n",
       "5 0.6556902       5.063381 2.870736           1.731740        0        \n",
       "6 0.6556902       4.787937 2.639771           1.731740        0        \n",
       "  intersect\n",
       "1 0        \n",
       "2 0        \n",
       "3 0        \n",
       "4 0        \n",
       "5 0        \n",
       "6 0        "
      ]
     },
     "metadata": {},
     "output_type": "display_data"
    }
   ],
   "source": [
    "head(data2)"
   ]
  },
  {
   "cell_type": "code",
   "execution_count": 29,
   "metadata": {
    "collapsed": false
   },
   "outputs": [],
   "source": [
    "res2<-plm(log_index~log_EffRentDollars+USD_GRM_spread+AAA+log_10year_rate+intersect,data=pdata2,effect='individual',model='pooling')"
   ]
  },
  {
   "cell_type": "code",
   "execution_count": 30,
   "metadata": {
    "collapsed": false
   },
   "outputs": [
    {
     "data": {
      "text/plain": [
       "Oneway (individual) effect Pooling Model\n",
       "\n",
       "Call:\n",
       "plm(formula = log_index ~ log_EffRentDollars + USD_GRM_spread + \n",
       "    AAA + log_10year_rate + intersect, data = pdata2, effect = \"individual\", \n",
       "    model = \"pooling\")\n",
       "\n",
       "Unbalanced Panel: n=133, T=34-62, N=7636\n",
       "\n",
       "Residuals :\n",
       "   Min. 1st Qu.  Median 3rd Qu.    Max. \n",
       "-2.7100 -0.2220  0.0241  0.2470  2.0300 \n",
       "\n",
       "Coefficients :\n",
       "                     Estimate Std. Error  t-value  Pr(>|t|)    \n",
       "(Intercept)         0.8374905  0.0515487  16.2466 < 2.2e-16 ***\n",
       "log_EffRentDollars  1.6033363  0.0025401 631.2065 < 2.2e-16 ***\n",
       "USD_GRM_spread      0.0214609  0.0120458   1.7816   0.07485 .  \n",
       "AAA                -0.1403166  0.0150693  -9.3114 < 2.2e-16 ***\n",
       "log_10year_rate    -0.1686921  0.0214426  -7.8671 4.128e-15 ***\n",
       "intersect          -0.0775801  0.0072270 -10.7347 < 2.2e-16 ***\n",
       "---\n",
       "Signif. codes:  0 '***' 0.001 '**' 0.01 '*' 0.05 '.' 0.1 ' ' 1\n",
       "\n",
       "Total Sum of Squares:    70577\n",
       "Residual Sum of Squares: 1323.5\n",
       "R-Squared:      0.98125\n",
       "Adj. R-Squared: 0.98048\n",
       "F-statistic: 79852.3 on 5 and 7630 DF, p-value: < 2.22e-16"
      ]
     },
     "metadata": {},
     "output_type": "display_data"
    }
   ],
   "source": [
    "summary(res2)"
   ]
  },
  {
   "cell_type": "code",
   "execution_count": null,
   "metadata": {
    "collapsed": true
   },
   "outputs": [],
   "source": []
  }
 ],
 "metadata": {
  "kernelspec": {
   "display_name": "R",
   "language": "R",
   "name": "ir"
  },
  "language_info": {
   "codemirror_mode": "r",
   "file_extension": ".r",
   "mimetype": "text/x-r-source",
   "name": "R",
   "pygments_lexer": "r",
   "version": "3.2.4"
  }
 },
 "nbformat": 4,
 "nbformat_minor": 0
}
